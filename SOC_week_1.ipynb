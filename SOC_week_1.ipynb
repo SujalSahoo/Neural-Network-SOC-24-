{
  "nbformat": 4,
  "nbformat_minor": 0,
  "metadata": {
    "colab": {
      "provenance": [],
      "authorship_tag": "ABX9TyMSK5VBIu1EllgmlrIKUMeV",
      "include_colab_link": true
    },
    "kernelspec": {
      "name": "python3",
      "display_name": "Python 3"
    },
    "language_info": {
      "name": "python"
    }
  },
  "cells": [
    {
      "cell_type": "markdown",
      "metadata": {
        "id": "view-in-github",
        "colab_type": "text"
      },
      "source": [
        "<a href=\"https://colab.research.google.com/github/SujalSahoo/Neural-Network-SOC-24-/blob/main/SOC_week_1.ipynb\" target=\"_parent\"><img src=\"https://colab.research.google.com/assets/colab-badge.svg\" alt=\"Open In Colab\"/></a>"
      ]
    },
    {
      "cell_type": "code",
      "execution_count": null,
      "metadata": {
        "id": "BdhUF9SR_bfK"
      },
      "outputs": [],
      "source": [
        "import numpy as np"
      ]
    },
    {
      "cell_type": "code",
      "source": [
        "def sigmoid(x):\n",
        "    g = 1/(1+np.exp(-x))\n",
        "    return g\n",
        "\n",
        "def dense(W, b, x):\n",
        "    z = np.dot(W.T, x) + b\n",
        "    a_out = sigmoid(z)\n",
        "    return a_out\n",
        "\n",
        "def sequential(shapes, x, seed=None):\n",
        "    np.random.seed(seed)\n",
        "    weights = [np.random.rand(*shape) for shape in shapes]\n",
        "    biases = [np.random.randint(0, 50, (shape[0], 1)) for shape in shapes]\n",
        "\n",
        "    a = x\n",
        "    for w, b in zip(weights, biases):\n",
        "        a = dense(w, b, a)\n",
        "    return a\n",
        "\n",
        "# Example usage\n",
        "seed = 42\n",
        "shapes = [(4, 4), (4, 4), (4, 1)]\n",
        "random_inputs = np.random.randn(4, 1)\n",
        "model_output = sequential(shapes, random_inputs, seed=seed)\n",
        "print(\"Model Output:\")\n",
        "print(model_output)\n"
      ],
      "metadata": {
        "colab": {
          "base_uri": "https://localhost:8080/"
        },
        "id": "ZU8emKpFZ0PV",
        "outputId": "78d10655-f608-47df-a31f-a988d1c7017f"
      },
      "execution_count": null,
      "outputs": [
        {
          "output_type": "stream",
          "name": "stdout",
          "text": [
            "Model Output:\n",
            "[[0.99994385]\n",
            " [1.        ]\n",
            " [1.        ]\n",
            " [0.99999986]]\n"
          ]
        }
      ]
    },
    {
      "cell_type": "code",
      "source": [
        "class NeuralNetwork:\n",
        "    def __init__(self, shapes, seed=None):\n",
        "        self.shapes = shapes\n",
        "        self.seed = seed\n",
        "        np.random.seed(seed)\n",
        "        self.weights = [np.random.rand(*shape) for shape in shapes]\n",
        "        self.biases = [np.random.randint(0, 50, (shape[0], 1)) for shape in shapes]\n",
        "\n",
        "    def sigmoid(self, x):\n",
        "        return 1 / (1 + np.exp(-x))\n",
        "\n",
        "    def dense(self, W, b, x):\n",
        "        z = np.dot(W.T, x) + b\n",
        "        a_out = self.sigmoid(z)\n",
        "        return a_out\n",
        "\n",
        "    def sequential(self, x):\n",
        "        a = x\n",
        "        for w, b in zip(self.weights, self.biases):\n",
        "            a = self.dense(w, b, a)\n",
        "        return a\n",
        "\n",
        "#example:\n",
        "shapes = [(4, 4), (4, 4), (4, 1)]\n",
        "nn = NeuralNetwork(shapes, seed=42)\n",
        "random_inputs = np.random.randn(4, 1)\n",
        "model_output = nn.sequential(random_inputs)\n",
        "print(\"Model Output:\")\n",
        "print(model_output)\n"
      ],
      "metadata": {
        "id": "Rv2_rmDDaHTo",
        "colab": {
          "base_uri": "https://localhost:8080/"
        },
        "outputId": "1ad51ab5-0aed-40d8-c2a4-9b9dd0a5a3d1"
      },
      "execution_count": null,
      "outputs": [
        {
          "output_type": "stream",
          "name": "stdout",
          "text": [
            "Model Output:\n",
            "[[0.99994385]\n",
            " [1.        ]\n",
            " [1.        ]\n",
            " [0.99999986]]\n"
          ]
        }
      ]
    },
    {
      "cell_type": "code",
      "source": [],
      "metadata": {
        "id": "cR7GrZdxazto"
      },
      "execution_count": null,
      "outputs": []
    }
  ]
}