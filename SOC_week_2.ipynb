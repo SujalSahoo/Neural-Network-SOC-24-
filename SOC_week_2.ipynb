{
  "nbformat": 4,
  "nbformat_minor": 0,
  "metadata": {
    "colab": {
      "provenance": [],
      "authorship_tag": "ABX9TyO53LWwlw8TjFlSeaIRVG02",
      "include_colab_link": true
    },
    "kernelspec": {
      "name": "python3",
      "display_name": "Python 3"
    },
    "language_info": {
      "name": "python"
    }
  },
  "cells": [
    {
      "cell_type": "markdown",
      "metadata": {
        "id": "view-in-github",
        "colab_type": "text"
      },
      "source": [
        "<a href=\"https://colab.research.google.com/github/SujalSahoo/Neural-Network-SOC-24-/blob/main/SOC_week_2.ipynb\" target=\"_parent\"><img src=\"https://colab.research.google.com/assets/colab-badge.svg\" alt=\"Open In Colab\"/></a>"
      ]
    },
    {
      "cell_type": "code",
      "source": [
        "import numpy as np\n",
        "\n",
        "def model(w, x, b):\n",
        "    f = np.dot(w, x) + b\n",
        "    return f\n",
        "\n",
        "def sigmoid(x):\n",
        "    g = 1 / (1 + np.exp(-x))\n",
        "    return g\n",
        "\n",
        "def loss_function(x, y, shape, seed=None):\n",
        "    np.random.seed(seed)\n",
        "    w = np.random.rand(*shape)\n",
        "    b = np.random.randint(0, 50, (shape[0], 1))\n",
        "    m = len(x)\n",
        "    J = 0\n",
        "    a = np.zeros((m, 1))\n",
        "\n",
        "    for i in range(m):\n",
        "        a[i] = model(w, x[i], b)\n",
        "        a[i] = sigmoid(a[i])\n",
        "        J += (y[i] - a[i])**2\n",
        "\n",
        "    J = J / (2 * m)\n",
        "    return J\n",
        "\n",
        "# Example usage\n",
        "seed = 42\n",
        "shape = (1, 1)\n",
        "random_inputs = np.random.randn(4, 1)\n",
        "random_labels = np.random.randint(0, 2, (4, 1))\n",
        "loss = loss_function(random_inputs, random_labels, shape, seed)\n",
        "print(\"Loss:\", loss)"
      ],
      "metadata": {
        "colab": {
          "base_uri": "https://localhost:8080/"
        },
        "id": "0LHgWVUTl3zk",
        "outputId": "ecc7fa52-3ca5-4039-8354-e27bc6729353"
      },
      "execution_count": null,
      "outputs": [
        {
          "output_type": "stream",
          "name": "stdout",
          "text": [
            "Loss: [0.375]\n"
          ]
        }
      ]
    }
  ]
}