{
  "nbformat": 4,
  "nbformat_minor": 0,
  "metadata": {
    "colab": {
      "provenance": [],
      "authorship_tag": "ABX9TyNEz/futdaUEovWoyMOwnCv",
      "include_colab_link": true
    },
    "kernelspec": {
      "name": "python3",
      "display_name": "Python 3"
    },
    "language_info": {
      "name": "python"
    }
  },
  "cells": [
    {
      "cell_type": "markdown",
      "metadata": {
        "id": "view-in-github",
        "colab_type": "text"
      },
      "source": [
        "<a href=\"https://colab.research.google.com/github/SujalSahoo/Neural-Network-SOC-24-/blob/main/SOC_week_3(updated).ipynb\" target=\"_parent\"><img src=\"https://colab.research.google.com/assets/colab-badge.svg\" alt=\"Open In Colab\"/></a>"
      ]
    },
    {
      "cell_type": "code",
      "source": [
        "import numpy as np\n",
        "\n",
        "class Dense:\n",
        "    def __init__(self, input_size, output_size):\n",
        "        self.weights = np.random.randn(input_size, output_size)\n",
        "        self.biases = np.random.randn(1, output_size)\n",
        "\n",
        "    def forward(self, input_data):\n",
        "        self.input_data = input_data\n",
        "        return np.dot(input_data, self.weights) + self.biases\n",
        "\n",
        "    def backward_prop(self, delta, learning_rate):\n",
        "        weight_grad = np.dot(self.input_data.T, delta)\n",
        "        self.weights -= learning_rate * weight_grad\n",
        "        self.biases -= learning_rate * np.sum(delta, axis=0, keepdims=True)\n",
        "        input_grad = np.dot(delta, self.weights.T)\n",
        "        return input_grad\n",
        "\n",
        "class Sigmoid:\n",
        "    def forward(self, input_data):\n",
        "        self.output = 1 / (1 + np.exp(-input_data))\n",
        "        return self.output\n",
        "\n",
        "    def backward_prop(self, delta, learning_rate):\n",
        "        return delta * self.output * (1 - self.output)\n",
        "\n",
        "class Crossentropy:\n",
        "    def loss(self, y_true, y_pred):\n",
        "        # y_pred = np.clip(y_pred, 1e-10, 1 - 1e-10)  # Clip values to avoid log(0)\n",
        "        loss = -np.mean(y_true * np.log(y_pred) + (1 - y_true) * np.log(1 - y_pred))\n",
        "        return loss\n",
        "\n",
        "    def gradient(self, y_true, y_pred):\n",
        "        return (y_pred - y_true) / y_true.shape[0]\n",
        "\n",
        "class Sequential:\n",
        "    def __init__(self, layers):\n",
        "        self.layers = layers\n",
        "\n",
        "    def predict(self, input_data):\n",
        "        output = input_data\n",
        "        for layer in self.layers:\n",
        "            output = layer.forward(output)\n",
        "        return output\n",
        "\n",
        "    def fit(self, input_data, target_output, loss=Crossentropy(), learning_rate=0.01):\n",
        "\n",
        "        output_pred = self.predict(input_data)\n",
        "        loss_value = loss.loss(target_output, output_pred)\n",
        "\n",
        "        loss_grad = loss.gradient(target_output, output_pred)\n",
        "        for layer in reversed(self.layers):\n",
        "            loss_grad = layer.backward_prop(loss_grad, learning_rate)\n",
        "\n",
        "        return loss_value\n",
        "\n",
        "# Example usage:\n",
        "input_size = 3\n",
        "output_size = 1\n",
        "layer1 = Dense(input_size, 5)\n",
        "activation1 = Sigmoid()\n",
        "layer2 = Dense(5, output_size)\n",
        "activation2 = Sigmoid()\n",
        "model = Sequential([layer1, activation1, layer2, activation2])\n",
        "\n",
        "\n",
        "input_data = np.random.randn(10, input_size)\n",
        "target_output = np.random.randint(0, 2, size=(10, output_size))\n",
        "\n",
        "# Train the model\n",
        "loss_value = model.fit(input_data, target_output, learning_rate=0.01)\n",
        "print(\"Loss:\", loss_value)\n",
        "\n",
        "# Predict\n",
        "predictions = model.predict(input_data)\n",
        "print(\"Predictions:\", predictions)\n"
      ],
      "metadata": {
        "colab": {
          "base_uri": "https://localhost:8080/"
        },
        "id": "OwKx00X9bLSf",
        "outputId": "fedaa404-6bd1-40c8-e4aa-0ba0d84b79f0"
      },
      "execution_count": null,
      "outputs": [
        {
          "output_type": "stream",
          "name": "stdout",
          "text": [
            "Loss: 1.502006703276114\n",
            "Predictions: [[0.12892064]\n",
            " [0.07747428]\n",
            " [0.03657676]\n",
            " [0.06758577]\n",
            " [0.15023345]\n",
            " [0.04744481]\n",
            " [0.09376757]\n",
            " [0.1400109 ]\n",
            " [0.11549181]\n",
            " [0.07193394]]\n"
          ]
        }
      ]
    },
    {
      "cell_type": "code",
      "source": [],
      "metadata": {
        "id": "eywUEUkzlcFu"
      },
      "execution_count": null,
      "outputs": []
    }
  ]
}